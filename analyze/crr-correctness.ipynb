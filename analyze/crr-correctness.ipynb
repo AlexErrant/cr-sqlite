{
 "cells": [
  {
   "cell_type": "markdown",
   "metadata": {},
   "source": [
    "# Correctness\n",
    "\n",
    "## DB Version\n",
    "1. [ ] Min int on first db creation\n",
    "2. [ ] Increments with every modification to a crr datum\n",
    "3. [ ] Restored from disk on db load\n",
    "4. [ ] Always unique across all rows for this site\n",
    "\n",
    "## Site id\n",
    "1. [ ] Initialized to uuid at startup\n",
    "2. [ ] Persisted\n",
    "3. [ ] Loaded from disk if exists on disk\n",
    "4. [ ] Does not ever change after being set, even between restarts\n",
    "\n",
    "## Schema modification\n",
    "1. [ ] create table\n",
    "  a. [ ] if not exists support\n",
    "  b. [ ] temp table support\n",
    "  c. [ ] quoted identifiers\n",
    "  d. [ ] no primary keys table\n",
    "  e. [ ] compound primary key table\n",
    "  f. [ ] single primary key\n",
    "2. [ ] create index\n",
    "3. [ ] drop index\n",
    "4. [ ] drop table\n",
    "5. [ ] alter table\n",
    "\n",
    "## Inserts of new rows\n",
    "1. [ ] version cols start at 0\n",
    "2. [ ] cl starts at 1\n",
    "3. [ ] db version incremented\n",
    "4. [ ] clock record written with new db version and current site id for current row\n",
    "5. [ ] db version is not in use on any other row\n",
    "6. [ ] cols have the inserted values\n",
    "7. [ ] update src is 0\n",
    "\n",
    "## Updates of rows\n",
    "1. [ ] version cols for changed rows increment by 1\n",
    "2. [ ] version cols for unchanges rows do not change\n",
    "3. [ ] db version is incremented\n",
    "4. [ ] clock record for this row records new db version that is greater than last recorded db version\n",
    "5. [ ] db version for the row is globally unique\n",
    "6. [ ] local updates are always taken -- no conflict resolution required\n",
    "7. [ ] update src is 0\n",
    "\n",
    "## Deletes of rows\n",
    "1. [ ] db version is incremented\n",
    "2. [ ] clock record for this row records new db version that is greater than last recorded db version\n",
    "3. [ ] db version for the row is globally unique\n",
    "4. [ ] local deletes are always taken -- no conflict resolution required\n",
    "5. [ ] if causal length was odd, it is incremented\n",
    "6. [ ] if causal length was even, it is unchanged\n",
    "7. [ ] version columns are unchanged\n",
    "8. [ ] value columns are unchanged\n",
    "9. [ ] update src is 0\n",
    "\n",
    "## Inserts of existing rows\n",
    "1. [ ] if causal length was odd, it is unchanged\n",
    "2. [ ] if causal length was even, it is incremented\n",
    "3. [ ] only cols referenced in insert are changed\n",
    "4. [ ] version cols are incremented for changed cols\n",
    "5. [ ] version cols are unchanged for unchanged cols\n",
    "6. [ ] clock record for this row records new db version that is greater than last recorded db version\n",
    "7. [ ] db version for the row is globally unique\n",
    "8. [ ] update src is 0\n",
    "\n",
    "## Reads\n",
    "1. [ ] deleted rows (even cl) are not returned\n",
    "2. [ ] undeleted (odd cl) rows are returned\n",
    "3. [ ] version cols are not returned\n",
    "4. [ ] cl is not returned\n",
    "5. [ ] update src is note returned\n",
    "\n",
    "## Merging remote changes\n",
    "1. [ ] merges against a row are idempotent\n",
    "  a. [ ] merging an old row (by vclock) does not change the new row\n",
    "  b. [ ] merging a row with an identical copy of itself does not change the row\n",
    "  c. [ ] reapplications of a merge, after the first, does not impact the state of the row\n",
    "2. [ ] update src is set to 1\n",
    "3. [ ] only columns with higher versions are taken\n",
    "4. [ ] if versions match for a column, the greater value is taken\n",
    "5. [ ] \n",
    "\n",
    "## Computing deltas against remote clock\n",
    "\n",
    "## Concurrency"
   ]
  },
  {
   "cell_type": "code",
   "execution_count": 1,
   "metadata": {},
   "outputs": [],
   "source": [
    "import sqlite3\n",
    "import os\n",
    "import time\n",
    "import random\n",
    "import string\n",
    "import pathlib\n",
    "\n",
    "db_file = './analyze/correctness.db'\n",
    "extension = './dist/cfsqlite'\n",
    "min_db_v = -9223372036854775807\n",
    "\n",
    "pathlib.Path(db_file).unlink(missing_ok=True)\n",
    "\n",
    "c = sqlite3.connect(db_file)\n",
    "c.enable_load_extension(True)\n",
    "c.load_extension(extension)"
   ]
  },
  {
   "cell_type": "markdown",
   "metadata": {},
   "source": [
    "# DB Version"
   ]
  },
  {
   "cell_type": "code",
   "execution_count": 2,
   "metadata": {},
   "outputs": [
    {
     "name": "stdout",
     "output_type": "stream",
     "text": [
      "0\n"
     ]
    },
    {
     "ename": "AssertionError",
     "evalue": "",
     "output_type": "error",
     "traceback": [
      "\u001b[0;31m---------------------------------------------------------------------------\u001b[0m",
      "\u001b[0;31mAssertionError\u001b[0m                            Traceback (most recent call last)",
      "Cell \u001b[0;32mIn [2], line 21\u001b[0m\n\u001b[1;32m     19\u001b[0m \u001b[39m# C3\u001b[39;00m\n\u001b[1;32m     20\u001b[0m \u001b[39mprint\u001b[39m(c\u001b[39m.\u001b[39mexecute(\u001b[39m\"\u001b[39m\u001b[39mSELECT cfsql_dbversion()\u001b[39m\u001b[39m\"\u001b[39m)\u001b[39m.\u001b[39mfetchone()[\u001b[39m0\u001b[39m])\n\u001b[0;32m---> 21\u001b[0m \u001b[39massert\u001b[39;00m c\u001b[39m.\u001b[39mexecute(\u001b[39m\"\u001b[39m\u001b[39mSELECT cfsql_dbversion()\u001b[39m\u001b[39m\"\u001b[39m)\u001b[39m.\u001b[39mfetchone()[\u001b[39m0\u001b[39m] \u001b[39m==\u001b[39m min_db_v \u001b[39m+\u001b[39m \u001b[39m3\u001b[39m\n\u001b[1;32m     23\u001b[0m \u001b[39m# C4 -- untested\u001b[39;00m\n\u001b[1;32m     24\u001b[0m c\u001b[39m.\u001b[39mclose()\n",
      "\u001b[0;31mAssertionError\u001b[0m: "
     ]
    }
   ],
   "source": [
    "# C1\n",
    "assert c.execute(\"SELECT cfsql_dbversion()\").fetchone()[0] == min_db_v\n",
    "\n",
    "# C2\n",
    "c.execute(\"select cfsql('create table foo (id primary key, a)')\")\n",
    "c.execute(\"insert into foo values (1, 2)\");\n",
    "assert c.execute(\"SELECT cfsql_dbversion()\").fetchone()[0] == min_db_v + 1\n",
    "c.execute(\"update foo set a = 3 where id = 1\")\n",
    "assert c.execute(\"SELECT cfsql_dbversion()\").fetchone()[0] == min_db_v + 2\n",
    "c.execute(\"delete from foo where id = 1\")\n",
    "assert c.execute(\"SELECT cfsql_dbversion()\").fetchone()[0] == min_db_v + 3\n",
    "\n",
    "c.close()\n",
    "\n",
    "c = sqlite3.connect(db_file)\n",
    "c.enable_load_extension(True)\n",
    "c.load_extension(extension)\n",
    "\n",
    "# C3\n",
    "print(c.execute(\"SELECT cfsql_dbversion()\").fetchone()[0])\n",
    "assert c.execute(\"SELECT cfsql_dbversion()\").fetchone()[0] == min_db_v + 3\n",
    "\n",
    "# C4 -- untested\n",
    "c.close()"
   ]
  },
  {
   "cell_type": "markdown",
   "metadata": {},
   "source": [
    "# Site ID"
   ]
  },
  {
   "cell_type": "code",
   "execution_count": null,
   "metadata": {},
   "outputs": [],
   "source": []
  }
 ],
 "metadata": {
  "kernelspec": {
   "display_name": "Python 3 (ipykernel)",
   "language": "python",
   "name": "python3"
  },
  "language_info": {
   "codemirror_mode": {
    "name": "ipython",
    "version": 3
   },
   "file_extension": ".py",
   "mimetype": "text/x-python",
   "name": "python",
   "nbconvert_exporter": "python",
   "pygments_lexer": "ipython3",
   "version": "3.10.8"
  },
  "orig_nbformat": 4
 },
 "nbformat": 4,
 "nbformat_minor": 2
}
