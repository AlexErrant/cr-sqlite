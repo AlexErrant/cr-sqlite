{
 "cells": [
  {
   "cell_type": "code",
   "execution_count": 2,
   "id": "f947304b-dda8-4653-a069-c9b8127ea804",
   "metadata": {},
   "outputs": [],
   "source": [
    "import sqlite3\n",
    "cnx = sqlite3.connect(\":memory:\");"
   ]
  },
  {
   "cell_type": "code",
   "execution_count": 7,
   "id": "4d2ee3ac-8d83-46e9-8af8-bf21f7b9e58c",
   "metadata": {},
   "outputs": [
    {
     "ename": "OperationalError",
     "evalue": "not authorized",
     "output_type": "error",
     "traceback": [
      "\u001b[0;31m---------------------------------------------------------------------------\u001b[0m",
      "\u001b[0;31mOperationalError\u001b[0m                          Traceback (most recent call last)",
      "\u001b[0;32m/var/folders/7f/dkx7mm_53cv0bs3kl15x9x1c0000gn/T/ipykernel_45394/430137341.py\u001b[0m in \u001b[0;36m<module>\u001b[0;34m\u001b[0m\n\u001b[0;32m----> 1\u001b[0;31m \u001b[0mcnx\u001b[0m\u001b[0;34m.\u001b[0m\u001b[0mload_extension\u001b[0m\u001b[0;34m(\u001b[0m\u001b[0;34m\"./cfsqlite.dylib\"\u001b[0m\u001b[0;34m)\u001b[0m\u001b[0;34m\u001b[0m\u001b[0;34m\u001b[0m\u001b[0m\n\u001b[0m",
      "\u001b[0;31mOperationalError\u001b[0m: not authorized"
     ]
    }
   ],
   "source": [
    "cnx.load_extension(\"./cfsqlite.dylib\")"
   ]
  },
  {
   "cell_type": "code",
   "execution_count": null,
   "id": "e73a8c0a-8f57-483b-a2cc-f70ea17eb505",
   "metadata": {},
   "outputs": [],
   "source": []
  },
  {
   "cell_type": "code",
   "execution_count": null,
   "id": "ce571303-c465-4d70-b256-09f4d8fa4a4c",
   "metadata": {},
   "outputs": [],
   "source": []
  }
 ],
 "metadata": {
  "kernelspec": {
   "display_name": "Python 3 (ipykernel)",
   "language": "python",
   "name": "python3"
  },
  "language_info": {
   "codemirror_mode": {
    "name": "ipython",
    "version": 3
   },
   "file_extension": ".py",
   "mimetype": "text/x-python",
   "name": "python",
   "nbconvert_exporter": "python",
   "pygments_lexer": "ipython3",
   "version": "3.9.7"
  }
 },
 "nbformat": 4,
 "nbformat_minor": 5
}
