{
 "cells": [
  {
   "cell_type": "code",
   "execution_count": 2,
   "id": "63da2777-d219-4fa0-ab70-ca29d8eff36f",
   "metadata": {},
   "outputs": [
    {
     "name": "stdout",
     "output_type": "stream",
     "text": [
      "Exception reporting mode: Verbose\n"
     ]
    }
   ],
   "source": [
    "%xmode Verbose"
   ]
  },
  {
   "cell_type": "code",
   "execution_count": 18,
   "id": "f947304b-dda8-4653-a069-c9b8127ea804",
   "metadata": {},
   "outputs": [
    {
     "data": {
      "text/plain": [
       "<sqlite3.Cursor at 0x103d7e6c0>"
      ]
     },
     "execution_count": 18,
     "metadata": {},
     "output_type": "execute_result"
    }
   ],
   "source": [
    "import sqlite3\n",
    "import os\n",
    "c = sqlite3.connect(\":memory:\")\n",
    "\n",
    "c.enable_load_extension(True)\n",
    "c.execute(\"select load_extension('../dist/cfsqlite')\")"
   ]
  },
  {
   "cell_type": "code",
   "execution_count": 19,
   "id": "e8b6deb1-0467-47a1-80a7-e5089eb0aa87",
   "metadata": {},
   "outputs": [
    {
     "data": {
      "text/plain": [
       "<sqlite3.Cursor at 0x103cb83c0>"
      ]
     },
     "execution_count": 19,
     "metadata": {},
     "output_type": "execute_result"
    }
   ],
   "source": [
    "c.execute(\"select cfsql_siteid()\")\n",
    "c.execute(\"select cfsql_dbversion()\")"
   ]
  },
  {
   "cell_type": "code",
   "execution_count": 22,
   "id": "1ee2462f-7233-4ffd-bce0-da609f67bccf",
   "metadata": {},
   "outputs": [
    {
     "data": {
      "text/plain": [
       "<sqlite3.Cursor at 0x103d7c3c0>"
      ]
     },
     "execution_count": 22,
     "metadata": {},
     "output_type": "execute_result"
    }
   ],
   "source": [
    "c.execute(\"select cfsql('CREATE TABLE user (id primary key, name)')\")\n",
    "c.execute(\"select cfsql('CREATE TABLE deck (id primary key, owner_id, title)')\")\n",
    "c.execute(\"select cfsql('CREATE TABLE slide (id primary key, deck_id, \\\"order\\\")')\")\n",
    "c.execute(\"select cfsql('CREATE TABLE component (id primary key, type, slide_id, content)')\")"
   ]
  },
  {
   "cell_type": "code",
   "execution_count": null,
   "id": "48681c51-d1cd-4707-a2b7-9f3c2591e101",
   "metadata": {},
   "outputs": [],
   "source": []
  }
 ],
 "metadata": {
  "kernelspec": {
   "display_name": "Python 3 (ipykernel)",
   "language": "python",
   "name": "python3"
  },
  "language_info": {
   "codemirror_mode": {
    "name": "ipython",
    "version": 3
   },
   "file_extension": ".py",
   "mimetype": "text/x-python",
   "name": "python",
   "nbconvert_exporter": "python",
   "pygments_lexer": "ipython3",
   "version": "3.10.8"
  },
  "vscode": {
   "interpreter": {
    "hash": "aee8b7b246df8f9039afb4144a1f6fd8d2ca17a180786b69acc140d282b71a49"
   }
  }
 },
 "nbformat": 4,
 "nbformat_minor": 5
}
