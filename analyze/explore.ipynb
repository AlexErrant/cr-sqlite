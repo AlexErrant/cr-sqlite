{
 "cells": [
  {
   "cell_type": "code",
   "execution_count": 2,
   "id": "63da2777-d219-4fa0-ab70-ca29d8eff36f",
   "metadata": {},
   "outputs": [
    {
     "name": "stdout",
     "output_type": "stream",
     "text": [
      "Exception reporting mode: Verbose\n"
     ]
    }
   ],
   "source": [
    "%xmode Verbose"
   ]
  },
  {
   "cell_type": "code",
   "execution_count": 13,
   "id": "f947304b-dda8-4653-a069-c9b8127ea804",
   "metadata": {},
   "outputs": [
    {
     "data": {
      "text/plain": [
       "<sqlite3.Cursor at 0x103cb8340>"
      ]
     },
     "execution_count": 13,
     "metadata": {},
     "output_type": "execute_result"
    }
   ],
   "source": [
    "import sqlite3\n",
    "import os\n",
    "c = sqlite3.connect(\":memory:\")\n",
    "\n",
    "c.enable_load_extension(True)\n",
    "c.execute(\"select load_extension('../dist/cfsqlite')\")"
   ]
  },
  {
   "cell_type": "code",
   "execution_count": 11,
   "id": "e8b6deb1-0467-47a1-80a7-e5089eb0aa87",
   "metadata": {},
   "outputs": [
    {
     "data": {
      "text/plain": [
       "<sqlite3.Cursor at 0x103cbbac0>"
      ]
     },
     "execution_count": 11,
     "metadata": {},
     "output_type": "execute_result"
    }
   ],
   "source": [
    "c.execute(\"select cfsql_siteid()\")\n",
    "c.execute(\"select cfsql_dbversion()\")"
   ]
  },
  {
   "cell_type": "code",
   "execution_count": 14,
   "id": "1ee2462f-7233-4ffd-bce0-da609f67bccf",
   "metadata": {},
   "outputs": [
    {
     "ename": "OperationalError",
     "evalue": "unrecognized token: \"\"(id primary key,name);\"",
     "output_type": "error",
     "traceback": [
      "\u001b[0;31m---------------------------------------------------------------------------\u001b[0m",
      "\u001b[0;31mOperationalError\u001b[0m                          Traceback (most recent call last)",
      "Cell \u001b[0;32mIn [14], line 1\u001b[0m\n\u001b[0;32m----> 1\u001b[0m \u001b[43mc\u001b[49m\u001b[38;5;241;43m.\u001b[39;49m\u001b[43mexecute\u001b[49m\u001b[43m(\u001b[49m\u001b[38;5;124;43m\"\u001b[39;49m\u001b[38;5;124;43mselect cfsql(\u001b[39;49m\u001b[38;5;124;43m'\u001b[39;49m\u001b[38;5;124;43mCREATE TABLE \u001b[39;49m\u001b[38;5;130;43;01m\\\"\u001b[39;49;00m\u001b[38;5;124;43muser\u001b[39;49m\u001b[38;5;130;43;01m\\\"\u001b[39;49;00m\u001b[38;5;124;43m (id primary key, name)\u001b[39;49m\u001b[38;5;124;43m'\u001b[39;49m\u001b[38;5;124;43m)\u001b[39;49m\u001b[38;5;124;43m\"\u001b[39;49m\u001b[43m)\u001b[49m\n\u001b[1;32m      2\u001b[0m c\u001b[38;5;241m.\u001b[39mexecute(\u001b[38;5;124m\"\u001b[39m\u001b[38;5;124mselect cfsql(\u001b[39m\u001b[38;5;124m'\u001b[39m\u001b[38;5;124mCREATE TABLE deck (id primary key, owner_id, title)\u001b[39m\u001b[38;5;124m'\u001b[39m\u001b[38;5;124m)\u001b[39m\u001b[38;5;124m\"\u001b[39m)\n\u001b[1;32m      3\u001b[0m c\u001b[38;5;241m.\u001b[39mexecute(\u001b[38;5;124m\"\u001b[39m\u001b[38;5;124mselect cfsql(\u001b[39m\u001b[38;5;124m'\u001b[39m\u001b[38;5;124mCREATE TABLE slide (id primary key, deck_id, \u001b[39m\u001b[38;5;130;01m\\\"\u001b[39;00m\u001b[38;5;124morder\u001b[39m\u001b[38;5;130;01m\\\"\u001b[39;00m\u001b[38;5;124m)\u001b[39m\u001b[38;5;124m'\u001b[39m\u001b[38;5;124m)\u001b[39m\u001b[38;5;124m\"\u001b[39m)\n",
      "\u001b[0;31mOperationalError\u001b[0m: unrecognized token: \"\"(id primary key,name);\""
     ]
    }
   ],
   "source": [
    "c.execute(\"select cfsql('CREATE TABLE \\\"user\\\" (id primary key, name)')\")\n",
    "c.execute(\"select cfsql('CREATE TABLE deck (id primary key, owner_id, title)')\")\n",
    "c.execute(\"select cfsql('CREATE TABLE slide (id primary key, deck_id, \\\"order\\\")')\")\n",
    "c.execute(\"select cfsql('CREATE TABLE component (id primary key, type, slide_id, content)')\")"
   ]
  },
  {
   "cell_type": "code",
   "execution_count": null,
   "id": "48681c51-d1cd-4707-a2b7-9f3c2591e101",
   "metadata": {},
   "outputs": [],
   "source": []
  }
 ],
 "metadata": {
  "kernelspec": {
   "display_name": "Python 3 (ipykernel)",
   "language": "python",
   "name": "python3"
  },
  "language_info": {
   "codemirror_mode": {
    "name": "ipython",
    "version": 3
   },
   "file_extension": ".py",
   "mimetype": "text/x-python",
   "name": "python",
   "nbconvert_exporter": "python",
   "pygments_lexer": "ipython3",
   "version": "3.10.8"
  },
  "vscode": {
   "interpreter": {
    "hash": "aee8b7b246df8f9039afb4144a1f6fd8d2ca17a180786b69acc140d282b71a49"
   }
  }
 },
 "nbformat": 4,
 "nbformat_minor": 5
}
